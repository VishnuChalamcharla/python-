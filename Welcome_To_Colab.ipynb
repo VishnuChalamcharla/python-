{
  "cells": [
    {
      "cell_type": "markdown",
      "metadata": {
        "id": "view-in-github",
        "colab_type": "text"
      },
      "source": [
        "<a href=\"https://colab.research.google.com/github/VishnuChalamcharla/python-/blob/main/Welcome_To_Colab.ipynb\" target=\"_parent\"><img src=\"https://colab.research.google.com/assets/colab-badge.svg\" alt=\"Open In Colab\"/></a>"
      ]
    },
    {
      "cell_type": "code",
      "source": [
        "# Sorting a list of numbers\n",
        "numbers = [5, 2, 9, 1, 5, 6]\n",
        "sorted_numbers = sorted(numbers)\n",
        "print(sorted_numbers)\n",
        "\n",
        "# Sorting a list of strings alphabetically\n",
        "words = [\"banana\", \"apple\", \"cherry\"]\n",
        "sorted_words = sorted(words)\n",
        "print(sorted_words)\n"
      ],
      "metadata": {
        "colab": {
          "base_uri": "https://localhost:8080/"
        },
        "id": "K3NGqB0mFl_2",
        "outputId": "1852c922-50fb-4424-8a4b-d18a5ea2187c"
      },
      "execution_count": 1,
      "outputs": [
        {
          "output_type": "stream",
          "name": "stdout",
          "text": [
            "[1, 2, 5, 5, 6, 9]\n",
            "['apple', 'banana', 'cherry']\n"
          ]
        }
      ]
    }
  ],
  "metadata": {
    "colab": {
      "name": "Welcome To Colab",
      "toc_visible": true,
      "provenance": [],
      "include_colab_link": true
    },
    "kernelspec": {
      "display_name": "Python 3",
      "name": "python3"
    }
  },
  "nbformat": 4,
  "nbformat_minor": 0
}